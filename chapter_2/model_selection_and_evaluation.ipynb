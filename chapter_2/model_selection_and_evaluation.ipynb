{
 "cells": [
  {
   "cell_type": "code",
   "execution_count": 6,
   "metadata": {},
   "outputs": [
    {
     "name": "stdout",
     "output_type": "stream",
     "text": [
      "     datetime  datetimeEpoch  tempmax  tempmin  temp  feelslikemax  \\\n",
      "0  2024-09-07   1.725692e+09    106.1     91.0  98.5         104.0   \n",
      "1  2024-09-08   1.725779e+09    103.9     87.0  95.4         100.5   \n",
      "2  2024-09-09   1.725865e+09    105.0     83.9  94.7          99.9   \n",
      "3  2024-09-10   1.725952e+09    106.1     81.2  93.9         100.6   \n",
      "4  2024-09-11   1.726038e+09    106.1     82.1  94.0         101.0   \n",
      "\n",
      "   feelslikemin  feelslike   dew  humidity  ...     City  Temp_Range  \\\n",
      "0          88.1       95.9  51.5      21.0  ...  Phoenix        15.1   \n",
      "1          84.7       92.3  48.7      21.5  ...  Phoenix        16.9   \n",
      "2          81.6       90.6  41.7      16.9  ...  Phoenix        21.1   \n",
      "3          79.5       89.8  39.1      15.7  ...  Phoenix        24.9   \n",
      "4          80.0       90.0  40.1      15.9  ...  Phoenix        24.0   \n",
      "\n",
      "   Heat_Index Severity_Score  Condition_Code  Month  Season  Day_of_Week  \\\n",
      "0   95.918703         4.4300             NaN    9.0    Fall     Saturday   \n",
      "1   92.281316         3.8800             0.0    9.0    Fall       Sunday   \n",
      "2   90.599165         3.6300             0.0    9.0    Fall       Monday   \n",
      "3   89.638811         2.8512             0.0    9.0    Fall      Tuesday   \n",
      "4   89.760414         3.3908             0.0    9.0    Fall    Wednesday   \n",
      "\n",
      "   Is_Weekend  Health_Risk_Score  \n",
      "0        True          10.522170  \n",
      "1        True          10.062332  \n",
      "2       False           9.673387  \n",
      "3       False           9.411519  \n",
      "4       False           9.515179  \n",
      "\n",
      "[5 rows x 46 columns]\n"
     ]
    }
   ],
   "source": [
    "import pandas as pd\n",
    "\n",
    "data = pd.read_csv('../data/air.csv', delimiter=',')\n",
    "print(data.head()) "
   ]
  },
  {
   "cell_type": "code",
   "execution_count": 14,
   "metadata": {},
   "outputs": [
    {
     "name": "stdout",
     "output_type": "stream",
     "text": [
      "Logistic Regression Performance\n",
      "              precision    recall  f1-score   support\n",
      "\n",
      "           0       0.77      0.70      0.73        87\n",
      "           1       0.79      0.84      0.81       113\n",
      "\n",
      "    accuracy                           0.78       200\n",
      "   macro avg       0.78      0.77      0.77       200\n",
      "weighted avg       0.78      0.78      0.78       200\n",
      "\n",
      "Random Forest Performance\n",
      "              precision    recall  f1-score   support\n",
      "\n",
      "           0       0.90      0.84      0.87        87\n",
      "           1       0.88      0.93      0.91       113\n",
      "\n",
      "    accuracy                           0.89       200\n",
      "   macro avg       0.89      0.88      0.89       200\n",
      "weighted avg       0.89      0.89      0.89       200\n",
      "\n",
      "SVC Performance\n",
      "              precision    recall  f1-score   support\n",
      "\n",
      "           0       0.77      0.62      0.69        87\n",
      "           1       0.75      0.86      0.80       113\n",
      "\n",
      "    accuracy                           0.76       200\n",
      "   macro avg       0.76      0.74      0.74       200\n",
      "weighted avg       0.76      0.76      0.75       200\n",
      "\n"
     ]
    }
   ],
   "source": [
    "# Step 1: Prepare the data\n",
    "from sklearn.model_selection import train_test_split\n",
    "from sklearn.preprocessing import LabelEncoder\n",
    "from sklearn.ensemble import RandomForestClassifier\n",
    "from sklearn.linear_model import LogisticRegression\n",
    "from sklearn.svm import SVC\n",
    "from sklearn.metrics import classification_report\n",
    "\n",
    "# Load your data (I assume you have already loaded it as `data`)\n",
    "# For now, let's simplify and use just a few columns for illustration\n",
    "# Convert 'Season' to binary (1 for Spring, 0 for others)\n",
    "data['Is_clear'] = (data['conditions'] == 'Clear').astype(int)\n",
    "\n",
    "# Choose features (you can modify this based on your needs)\n",
    "features = ['tempmax', 'tempmin', 'humidity', 'Heat_Index']  # Example features\n",
    "X = data[features]\n",
    "y = data['Is_clear']\n",
    "\n",
    "# Step 2: Split the data into training and testing sets\n",
    "X_train, X_test, y_train, y_test = train_test_split(X, y, test_size=0.2, random_state=42)\n",
    "\n",
    "# Step 3: Train classifiers\n",
    "\n",
    "# Logistic Regression\n",
    "log_reg = LogisticRegression()\n",
    "log_reg.fit(X_train, y_train)\n",
    "y_pred_log_reg = log_reg.predict(X_test)\n",
    "\n",
    "# Random Forest Classifier\n",
    "rf_clf = RandomForestClassifier()\n",
    "rf_clf.fit(X_train, y_train)\n",
    "y_pred_rf = rf_clf.predict(X_test)\n",
    "\n",
    "# Support Vector Classifier (SVC)\n",
    "svc_clf = SVC()\n",
    "svc_clf.fit(X_train, y_train)\n",
    "y_pred_svc = svc_clf.predict(X_test)\n",
    "\n",
    "# Step 4: Evaluate models\n",
    "print(\"Logistic Regression Performance\")\n",
    "print(classification_report(y_test, y_pred_log_reg))\n",
    "\n",
    "print(\"Random Forest Performance\")\n",
    "print(classification_report(y_test, y_pred_rf))\n",
    "\n",
    "print(\"SVC Performance\")\n",
    "print(classification_report(y_test, y_pred_svc))\n"
   ]
  }
 ],
 "metadata": {
  "kernelspec": {
   "display_name": ".venv",
   "language": "python",
   "name": "python3"
  },
  "language_info": {
   "codemirror_mode": {
    "name": "ipython",
    "version": 3
   },
   "file_extension": ".py",
   "mimetype": "text/x-python",
   "name": "python",
   "nbconvert_exporter": "python",
   "pygments_lexer": "ipython3",
   "version": "3.11.5"
  }
 },
 "nbformat": 4,
 "nbformat_minor": 2
}
