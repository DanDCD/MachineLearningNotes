{
 "cells": [
  {
   "cell_type": "markdown",
   "metadata": {},
   "source": [
    "# Understanding the Out-of-Sample Error and the No Free Lunch Theorem\n",
    "\n",
    "In this notebook, we will walk through the mathematics behind out-of-sample error and the No Free Lunch (NFL) Theorem. We will break down important equations and explore examples using Python to reinforce key concepts.\n"
   ]
  },
  {
   "cell_type": "markdown",
   "metadata": {},
   "source": [
    "## Out-of-Sample Error (Equation 1.1)\n",
    "\n",
    "The out-of-sample error for a learning algorithm \n",
    "$$\\mathcal{L}_a$$ \n",
    "is given by:\n",
    "\n",
    "$$\n",
    "E_{\\text{ote}}(\\mathcal{L}_a | X, f) = \\sum_{h} \\sum_{x \\in \\mathcal{X} - X} P(x) \\mathbb{I}(h(x) \\neq f(x)) P(h | X, \\mathcal{L}_a)\n",
    "$$\n",
    "\n",
    "Where:\n",
    "- $\n",
    "E_{\\text{ote}}(\\mathcal{L}_a | X, f) \n",
    "$ Is the out-of-sample error for a learning algorithm, given the training set and the ground truth.\n",
    "\n",
    "- $\n",
    "\\mathcal{X} - X\n",
    "$ Is the whole input space subtract the training set, which is therefore equivalent to all unseen data (i.e the test set).\n",
    "\n",
    "- $\n",
    "P(x)\n",
    "$ Is the probability of observing (unseen/test) sample $x$.\n",
    "\n",
    "- $\n",
    "\\mathbb{I}(h(x) \\neq f(x))\n",
    "$ Is the indicator function, which will be $0$ when our hypothesis (i.e. prediction) for unseen sample $x$ is equal to the ground truth, and $1$ otherwise.\n",
    "\n",
    "- $\n",
    "P(h | X, \\mathcal{L}_a)\n",
    "$ Is the probability of obtaining the hypothesis $h$ given the training data $X$ and the learning algorithm $\\mathcal{L}_a$."
   ]
  },
  {
   "cell_type": "code",
   "execution_count": null,
   "metadata": {},
   "outputs": [],
   "source": []
  }
 ],
 "metadata": {
  "language_info": {
   "name": "python"
  }
 },
 "nbformat": 4,
 "nbformat_minor": 2
}
